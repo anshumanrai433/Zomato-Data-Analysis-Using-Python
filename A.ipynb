{
 "cells": [
  {
   "cell_type": "code",
   "execution_count": null,
   "id": "99c96411",
   "metadata": {},
   "outputs": [],
   "source": [
    "import pandas as pd\n",
    "import numpy as np\n",
    "import matplotlib.pyplot as plt\n",
    "import seaborn as sns\n",
    "\n",
    "# For inline plotting\n",
    "%matplotlib inline\n",
    "\n",
    "# Set plot style\n",
    "sns.set(style=\"whitegrid\")\n"
   ]
  },
  {
   "cell_type": "code",
   "execution_count": null,
   "id": "e00b6817",
   "metadata": {},
   "outputs": [],
   "source": [
    "# Load CSV file (replace with the correct path if needed)\n",
    "df = pd.read_csv('zomato.csv')\n",
    "\n",
    "# Show the first few rows\n",
    "df.head()\n"
   ]
  },
  {
   "cell_type": "code",
   "execution_count": null,
   "id": "c4b58ba3",
   "metadata": {},
   "outputs": [],
   "source": [
    "# Check missing values\n",
    "df.isnull().sum()\n",
    "\n",
    "# Fill missing values\n",
    "df['Average Cost for two'].fillna(df['Average Cost for two'].median(), inplace=True)\n",
    "df['Cuisines'].fillna(df['Cuisines'].mode()[0], inplace=True)\n",
    "\n",
    "# Drop duplicates if any\n",
    "df.drop_duplicates(inplace=True)\n"
   ]
  },
  {
   "cell_type": "code",
   "execution_count": null,
   "id": "b0d21b58",
   "metadata": {},
   "outputs": [],
   "source": [
    "plt.figure(figsize=(8,5))\n",
    "sns.histplot(df['Aggregate rating'], bins=10, kde=True, color='teal')\n",
    "plt.title('Distribution of Aggregate Ratings')\n",
    "plt.xlabel('Rating')\n",
    "plt.ylabel('Count')\n",
    "plt.show()\n"
   ]
  },
  {
   "cell_type": "code",
   "execution_count": null,
   "id": "f1611240",
   "metadata": {},
   "outputs": [],
   "source": [
    "plt.figure(figsize=(8,5))\n",
    "sns.scatterplot(data=df, x='Aggregate rating', y='Votes', hue='Rating text')\n",
    "plt.title('Votes vs Rating')\n",
    "plt.xlabel('Aggregate Rating')\n",
    "plt.ylabel('Votes')\n",
    "plt.legend(bbox_to_anchor=(1.05, 1), loc='upper left')\n",
    "plt.show()\n"
   ]
  }
 ],
 "metadata": {
  "kernelspec": {
   "display_name": ".venv",
   "language": "python",
   "name": "python3"
  },
  "language_info": {
   "name": "python",
   "version": "3.13.3"
  }
 },
 "nbformat": 4,
 "nbformat_minor": 5
}
